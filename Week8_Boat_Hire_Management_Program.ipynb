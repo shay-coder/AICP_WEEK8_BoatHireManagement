{
  "nbformat": 4,
  "nbformat_minor": 0,
  "metadata": {
    "colab": {
      "provenance": []
    },
    "kernelspec": {
      "name": "python3",
      "display_name": "Python 3"
    },
    "language_info": {
      "name": "python"
    }
  },
  "cells": [
    {
      "cell_type": "markdown",
      "source": [
        "# The owner of a river boat hire company wants to calculate the daily profits from hiring out 10 rowing boats on the river. Boats are numbered 1 to 10. Boats can be hired for use between 10:00 and 17:00 every day."
      ],
      "metadata": {
        "id": "jlqxKlIuUiB3"
      }
    },
    {
      "cell_type": "markdown",
      "source": [
        "# **calculate the money taken in a day for one boat**"
      ],
      "metadata": {
        "id": "EetCLVOoUiL2"
      }
    },
    {
      "cell_type": "code",
      "source": [
        "HOURLY_RATE = 20\n",
        "HALF_HOUR_RATE = 12\n",
        "OPENING_TIME = 10\n",
        "CLOSING_TIME = 17\n",
        "\n",
        "money_taken = 0\n",
        "total_hours_hired = 0\n",
        "\n",
        "# Function to calculate money taken for one boat\n",
        "def calculate_money_for_boat(boat_number, start_time, duration):\n",
        "    global money_taken, total_hours_hired\n",
        "\n",
        "    print(f\"\\nBoat {boat_number}:\")\n",
        "\n",
        "    # Validate start time and duration\n",
        "    if OPENING_TIME <= start_time <= CLOSING_TIME and 0.5 <= duration <= 7:\n",
        "        cost = duration * (HOURLY_RATE if duration <= 1 else HALF_HOUR_RATE)\n",
        "        money_taken += cost\n",
        "        total_hours_hired += duration\n",
        "        print(f\"Cost for Boat {boat_number}: ${cost:.2f}\")\n",
        "        print(f\"Total hours hired for Boat {boat_number}: {total_hours_hired:.2f}\")\n",
        "    else:\n",
        "        print(\"Error: Invalid start time or duration.\")\n",
        "\n",
        "# Main program\n",
        "while True:\n",
        "    boat_num_str = input(\"Enter boat number (or 'done' to finish): \")\n",
        "\n",
        "    if boat_num_str.lower() == 'done':\n",
        "        break\n",
        "\n",
        "    try:\n",
        "        boat_num = int(boat_num_str)\n",
        "        start_time = float(input(f\"Enter start time for Boat {boat_num} (in 24-hour format): \"))\n",
        "        duration = float(input(f\"Enter duration for Boat {boat_num} in hours: \"))\n",
        "        calculate_money_for_boat(boat_num, start_time, duration)\n",
        "    except ValueError:\n",
        "        print(\"Invalid input. Please enter a valid boat number.\")\n",
        "\n",
        "# Output at the end of the day\n",
        "print(\"\\nEnd of the day:\")\n",
        "print(f\"Total money taken: ${money_taken:.2f}\")\n",
        "print(f\"Total hours hired for all boats: {total_hours_hired:.2f}\")\n"
      ],
      "metadata": {
        "colab": {
          "base_uri": "https://localhost:8080/"
        },
        "id": "x178NNxXUqg-",
        "outputId": "06dc5daf-d670-4e91-aac9-631771766df2"
      },
      "execution_count": null,
      "outputs": [
        {
          "output_type": "stream",
          "name": "stdout",
          "text": [
            "Enter boat number (or 'done' to finish): 3\n",
            "Enter start time for Boat 3 (in 24-hour format): 12\n",
            "Enter duration for Boat 3 in hours: 2\n",
            "\n",
            "Boat 3:\n",
            "Cost for Boat 3: $24.00\n",
            "Total hours hired for Boat 3: 2.00\n",
            "Enter boat number (or 'done' to finish): 12\n",
            "Enter start time for Boat 12 (in 24-hour format): 14\n",
            "Enter duration for Boat 12 in hours: 9\n",
            "\n",
            "Boat 12:\n",
            "Error: Invalid start time or duration.\n",
            "Enter boat number (or 'done' to finish): done\n",
            "\n",
            "End of the day:\n",
            "Total money taken: $24.00\n",
            "Total hours hired for all boats: 2.00\n"
          ]
        }
      ]
    },
    {
      "cell_type": "markdown",
      "source": [
        "# **Find the next boat available**"
      ],
      "metadata": {
        "id": "0Z5Hkme5X-DK"
      }
    },
    {
      "cell_type": "code",
      "source": [
        "HOURLY_RATE = 20\n",
        "HALF_HOUR_RATE = 12\n",
        "OPENING_TIME = 10\n",
        "CLOSING_TIME = 17\n",
        "\n",
        "money_taken = 0\n",
        "total_hours_hired = 0\n",
        "\n",
        "# Dictionary to store data for each boat\n",
        "boat_data = {i: {'return_time': OPENING_TIME, 'hours_hired': 0} for i in range(1, 11)}\n",
        "\n",
        "# Function to calculate money taken for one boat\n",
        "def calculate_money_for_boat(boat_number, start_time, duration):\n",
        "    global money_taken, total_hours_hired\n",
        "\n",
        "    print(f\"\\nBoat {boat_number}:\")\n",
        "\n",
        "    # Validate start time and duration\n",
        "    if OPENING_TIME <= start_time <= CLOSING_TIME and 0.5 <= duration <= 7:\n",
        "        # Calculate cost\n",
        "        cost = duration * (HOURLY_RATE if duration <= 1 else HALF_HOUR_RATE)\n",
        "        money_taken += cost\n",
        "        total_hours_hired += duration\n",
        "\n",
        "        # Update boat data\n",
        "        boat_data[boat_number]['return_time'] = start_time + duration\n",
        "        boat_data[boat_number]['hours_hired'] += duration\n",
        "\n",
        "        print(f\"Cost for Boat {boat_number}: ${cost:.2f}\")\n",
        "        print(f\"Total hours hired for Boat {boat_number}: {boat_data[boat_number]['hours_hired']:.2f}\")\n",
        "    else:\n",
        "        print(\"Error: Invalid start time or duration.\")\n",
        "\n",
        "# Function to find the next available boat\n",
        "def find_next_available_boat(current_time):\n",
        "    available_boats = [boat for boat, data in boat_data.items() if data['return_time'] <= current_time]\n",
        "\n",
        "    if available_boats:\n",
        "        print(f\"\\nAvailable boats at {current_time:.2f} hours: {available_boats}\")\n",
        "    else:\n",
        "        next_available_time = min(boat_data.values(), key=lambda x: x['return_time'])['return_time']\n",
        "        print(f\"\\nNo boats available. Next available time is at {next_available_time:.2f} hours.\")\n",
        "\n",
        "# Main program\n",
        "while True:\n",
        "    boat_num_str = input(\"Enter boat number (or 'done' to finish): \")\n",
        "\n",
        "    if boat_num_str.lower() == 'done':\n",
        "        break\n",
        "\n",
        "    try:\n",
        "        boat_num = int(boat_num_str)\n",
        "        start_time = float(input(f\"Enter start time for Boat {boat_num} (in 24-hour format): \"))\n",
        "        duration = float(input(f\"Enter duration for Boat {boat_num} in hours: \"))\n",
        "        calculate_money_for_boat(boat_num, start_time, duration)\n",
        "    except ValueError:\n",
        "        print(\"Invalid input. Please enter a valid boat number.\")\n",
        "\n",
        "# Get the current time\n",
        "current_time = float(input(\"Enter the current time (in 24-hour format) to check boat availability: \"))\n",
        "find_next_available_boat(current_time)\n",
        "\n",
        "# Output at the end of the day\n",
        "print(\"\\nEnd of the day:\")\n",
        "print(f\"Total money taken: ${money_taken:.2f}\")\n",
        "print(f\"Total hours hired for all boats: {total_hours_hired:.2f}\")\n",
        "#"
      ],
      "metadata": {
        "colab": {
          "base_uri": "https://localhost:8080/"
        },
        "id": "ycZFUDK3YCpx",
        "outputId": "f70c6b3f-4d3b-45e5-faee-51174d5142fe"
      },
      "execution_count": null,
      "outputs": [
        {
          "output_type": "stream",
          "name": "stdout",
          "text": [
            "Enter boat number (or 'done' to finish): 12\n",
            "Enter start time for Boat 12 (in 24-hour format): 23\n",
            "Enter duration for Boat 12 in hours: 21\n",
            "\n",
            "Boat 12:\n",
            "Error: Invalid start time or duration.\n",
            "Enter boat number (or 'done' to finish): 10\n",
            "Enter start time for Boat 10 (in 24-hour format): 1\n",
            "Enter duration for Boat 10 in hours: 1\n",
            "\n",
            "Boat 10:\n",
            "Error: Invalid start time or duration.\n",
            "Enter boat number (or 'done' to finish): 10\n",
            "Enter start time for Boat 10 (in 24-hour format): 13\n",
            "Enter duration for Boat 10 in hours: 2\n",
            "\n",
            "Boat 10:\n",
            "Cost for Boat 10: $24.00\n",
            "Total hours hired for Boat 10: 2.00\n",
            "Enter boat number (or 'done' to finish): done\n",
            "Enter the current time (in 24-hour format) to check boat availability: 13\n",
            "\n",
            "Available boats at 13.00 hours: [1, 2, 3, 4, 5, 6, 7, 8, 9]\n",
            "\n",
            "End of the day:\n",
            "Total money taken: $24.00\n",
            "Total hours hired for all boats: 2.00\n"
          ]
        }
      ]
    },
    {
      "cell_type": "markdown",
      "source": [
        "# **Money taken for all the boats in a day**"
      ],
      "metadata": {
        "id": "-KxbCeHZa-cW"
      }
    },
    {
      "cell_type": "code",
      "source": [
        "HOURLY_RATE = 20\n",
        "HALF_HOUR_RATE = 12\n",
        "OPENING_TIME = 10\n",
        "CLOSING_TIME = 17\n",
        "\n",
        "money_taken = 0\n",
        "total_hours_hired = 0\n",
        "\n",
        "# Dictionary to store data for each boat\n",
        "boat_data = {i: {'return_time': OPENING_TIME, 'hours_hired': 0} for i in range(1, 11)}\n",
        "\n",
        "# Function to calculate money taken for one boat\n",
        "def calculate_money_for_boat(boat_number, start_time, duration):\n",
        "    global money_taken, total_hours_hired\n",
        "\n",
        "    print(f\"\\nBoat {boat_number}:\")\n",
        "\n",
        "    # Validate start time and duration\n",
        "    if OPENING_TIME <= start_time <= CLOSING_TIME and 0.5 <= duration <= 7:\n",
        "        # Calculate cost\n",
        "        cost = duration * (HOURLY_RATE if duration <= 1 else HALF_HOUR_RATE)\n",
        "        money_taken += cost\n",
        "        total_hours_hired += duration\n",
        "\n",
        "        # Update boat data\n",
        "        boat_data[boat_number]['return_time'] = start_time + duration\n",
        "        boat_data[boat_number]['hours_hired'] += duration\n",
        "\n",
        "        print(f\"Cost for Boat {boat_number}: ${cost:.2f}\")\n",
        "        print(f\"Total hours hired for Boat {boat_number}: {boat_data[boat_number]['hours_hired']:.2f}\")\n",
        "    else:\n",
        "        print(\"Error: Invalid start time or duration.\")\n",
        "\n",
        "\n",
        "# Function to calculate money taken for all boats at the end of the day\n",
        "def calculate_money_for_all_boats():\n",
        "    print(\"\\nEnd of the day report:\")\n",
        "    print(f\"Total money taken: ${money_taken:.2f}\")\n",
        "    print(f\"Total hours hired for all boats: {total_hours_hired:.2f}\")\n",
        "\n",
        "    unused_boats = [boat for boat, data in boat_data.items() if data['hours_hired'] == 0]\n",
        "    if unused_boats:\n",
        "        print(f\"Boats not used today: {unused_boats}\")\n",
        "    else:\n",
        "        print(\"All boats were used today.\")\n",
        "\n",
        "    most_used_boat = max(boat_data, key=lambda x: boat_data[x]['hours_hired'])\n",
        "    print(f\"Boat {most_used_boat} was used the most, for a total of {boat_data[most_used_boat]['hours_hired']:.2f} hours.\")\n",
        "\n",
        "# Main program\n",
        "while True:\n",
        "    boat_num_str = input(\"Enter boat number (or 'done' to finish): \")\n",
        "\n",
        "    if boat_num_str.lower() == 'done':\n",
        "        break\n",
        "\n",
        "    try:\n",
        "        boat_num = int(boat_num_str)\n",
        "        start_time = float(input(f\"Enter start time for Boat {boat_num} (in 24-hour format): \"))\n",
        "        duration = float(input(f\"Enter duration for Boat {boat_num} in hours: \"))\n",
        "        calculate_money_for_boat(boat_num, start_time, duration)\n",
        "    except ValueError:\n",
        "        print(\"Invalid input. Please enter a valid boat number.\")\n",
        "\n",
        "\n",
        "# Output at the end of the day\n",
        "calculate_money_for_all_boats()\n"
      ],
      "metadata": {
        "colab": {
          "base_uri": "https://localhost:8080/"
        },
        "id": "U0FuhyGRbDJq",
        "outputId": "48684e71-8b2e-4c43-d28b-d9bb5e7b7e08"
      },
      "execution_count": null,
      "outputs": [
        {
          "output_type": "stream",
          "name": "stdout",
          "text": [
            "Enter boat number (or 'done' to finish): 3\n",
            "Enter start time for Boat 3 (in 24-hour format): 13\n",
            "Enter duration for Boat 3 in hours: 3\n",
            "\n",
            "Boat 3:\n",
            "Cost for Boat 3: $36.00\n",
            "Total hours hired for Boat 3: 3.00\n",
            "Enter boat number (or 'done' to finish): 4\n",
            "Enter start time for Boat 4 (in 24-hour format): 13\n",
            "Enter duration for Boat 4 in hours: 2\n",
            "\n",
            "Boat 4:\n",
            "Cost for Boat 4: $24.00\n",
            "Total hours hired for Boat 4: 2.00\n",
            "Enter boat number (or 'done' to finish): 4\n",
            "Enter start time for Boat 4 (in 24-hour format): 32\n",
            "Enter duration for Boat 4 in hours: 22\n",
            "\n",
            "Boat 4:\n",
            "Error: Invalid start time or duration.\n",
            "Enter boat number (or 'done' to finish): done\n",
            "\n",
            "End of the day report:\n",
            "Total money taken: $60.00\n",
            "Total hours hired for all boats: 5.00\n",
            "Boats not used today: [1, 2, 5, 6, 7, 8, 9, 10]\n",
            "Boat 3 was used the most, for a total of 3.00 hours.\n"
          ]
        }
      ]
    }
  ]
}